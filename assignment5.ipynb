{
 "cells": [
  {
   "cell_type": "markdown",
   "id": "b391e1e5-5e45-4f46-92a5-928e99014f73",
   "metadata": {},
   "source": [
    "### Q1 Create a vehicle class with an init method having instance variable as name_of_vehicle,max_speed,and average_of_vehicle."
   ]
  },
  {
   "cell_type": "code",
   "execution_count": 33,
   "id": "12c69344-b7df-4e99-be5b-f9f67eef3082",
   "metadata": {},
   "outputs": [],
   "source": [
    "class vehicle_class:\n",
    "    def __init__ (self,name_of_vehicle,max_speed,average_of_vehicle):\n",
    "        self.name_of_vehicle=name_of_vehicle\n",
    "        self.max_speed=max_speed\n",
    "        self.average_of_vehicle=average_of_vehicle"
   ]
  },
  {
   "cell_type": "markdown",
   "id": "0aa7a5c5-3b1a-43fa-9dd5-9c11cfeeb230",
   "metadata": {},
   "source": [
    "### Q2 Create a child class car from the vehicle class created in que1, which will inherit the the vehicle class.Created the method named_seating_capacity which takes capacity as an argumentand return the name of the vechile and istseating capacity."
   ]
  },
  {
   "cell_type": "code",
   "execution_count": 31,
   "id": "11efca93-1ec5-4ff0-bd82-a4ee9819641d",
   "metadata": {},
   "outputs": [
    {
     "name": "stdout",
     "output_type": "stream",
     "text": [
      "the seating capacity of a inova is 7 passenger\n"
     ]
    }
   ],
   "source": [
    "class vehicle_class:\n",
    "    def __init__ (self,name_of_vehicle,max_speed,average_of_vehicle):\n",
    "        self.name_of_vehicle=name_of_vehicle\n",
    "        self.max_speed=max_speed\n",
    "        self.average_of_vehicle=average_of_vehicle\n",
    "    def seating_capacity (self,seating_capacity=7): \n",
    "         return f\"the seating capacity of a {self.name_of_vehicle} is {7} passenger\"\n",
    "class child_class(vehicle_class):\n",
    "      \n",
    "        def seating_capacity (self,seating_capacity=7):\n",
    "            return super().seating_capacity(seating_capacity)\n",
    "    \n",
    "child_car=child_class('inova',180,12,)\n",
    "print(child_car.seating_capacity())\n",
    "        \n",
    "    "
   ]
  },
  {
   "cell_type": "markdown",
   "id": "3cc6fec7-c674-4931-8782-2c895c57b75e",
   "metadata": {},
   "source": [
    "### Q3 What is multiple inheritance? Write a python code to demonsrate multiple inheritence."
   ]
  },
  {
   "cell_type": "code",
   "execution_count": 3,
   "id": "644f9d95-ef71-4b7a-a8c7-c2d497f0cd83",
   "metadata": {},
   "outputs": [],
   "source": [
    "class class1:\n",
    "    def class1(self):\n",
    "        return \"this is my class1\""
   ]
  },
  {
   "cell_type": "code",
   "execution_count": 9,
   "id": "dcdfc227-f137-4abf-86f6-7dab935706f6",
   "metadata": {},
   "outputs": [],
   "source": [
    "class class2:\n",
    "    def class2(self):\n",
    "        return \"this is my class2\""
   ]
  },
  {
   "cell_type": "code",
   "execution_count": 10,
   "id": "defd21fc-484f-4d78-ad68-636c0c209530",
   "metadata": {},
   "outputs": [],
   "source": [
    "class class3(class1,class2):\n",
    "    pass"
   ]
  },
  {
   "cell_type": "code",
   "execution_count": 11,
   "id": "c8e5d488-b8c1-4f6c-8a63-d21368ea6131",
   "metadata": {},
   "outputs": [],
   "source": [
    "obj=class3()"
   ]
  },
  {
   "cell_type": "code",
   "execution_count": 13,
   "id": "de8fd610-a414-4206-9c4f-cb914b011b1b",
   "metadata": {},
   "outputs": [
    {
     "data": {
      "text/plain": [
       "'this is my class1'"
      ]
     },
     "execution_count": 13,
     "metadata": {},
     "output_type": "execute_result"
    }
   ],
   "source": [
    "obj.class1()"
   ]
  },
  {
   "cell_type": "code",
   "execution_count": 14,
   "id": "7a6d2b4c-38b3-4ad8-8430-b0a18598bff2",
   "metadata": {},
   "outputs": [
    {
     "data": {
      "text/plain": [
       "'this is my class2'"
      ]
     },
     "execution_count": 14,
     "metadata": {},
     "output_type": "execute_result"
    }
   ],
   "source": [
    "obj.class2()"
   ]
  },
  {
   "cell_type": "markdown",
   "id": "e1ec8604-af80-4588-96b0-8658b2afa0bf",
   "metadata": {},
   "source": [
    "### Q4 What are getter and setter in python? Create a class and create a getter and setter methord in this class."
   ]
  },
  {
   "cell_type": "code",
   "execution_count": 32,
   "id": "26160dd0-e966-4de3-8fe6-24250d57aaef",
   "metadata": {},
   "outputs": [],
   "source": [
    "class marks_obtain:\n",
    "    def __init__(self,name,marks,student_id,DOB):\n",
    "        self.__name=name\n",
    "        self.__marks=marks\n",
    "        self.__student_id=student_id\n",
    "        self.__DOB=DOB\n",
    "    def set_marks(self,marks):\n",
    "            self.__marks=50 if marks<70 else marks\n",
    "    def get_marks(self):\n",
    "            return self.__marks"
   ]
  },
  {
   "cell_type": "code",
   "execution_count": 33,
   "id": "e040d61e-6cc1-4201-9584-b32b254c9fcd",
   "metadata": {},
   "outputs": [],
   "source": [
    "mark=marks_obtain('himanshu',75,103,14/5/2004)"
   ]
  },
  {
   "cell_type": "code",
   "execution_count": 29,
   "id": "d30cc017-eb1a-48a7-b7e6-47b58bd2b9fb",
   "metadata": {},
   "outputs": [
    {
     "data": {
      "text/plain": [
       "75"
      ]
     },
     "execution_count": 29,
     "metadata": {},
     "output_type": "execute_result"
    }
   ],
   "source": [
    "mark.get_marks()"
   ]
  },
  {
   "cell_type": "code",
   "execution_count": 36,
   "id": "f28b9ed8-0412-46cf-a00d-f3341a21d62c",
   "metadata": {},
   "outputs": [],
   "source": [
    "mark.set_marks(78)"
   ]
  },
  {
   "cell_type": "code",
   "execution_count": 37,
   "id": "71df41de-4ad8-46ac-989e-36a9155fbec3",
   "metadata": {},
   "outputs": [
    {
     "data": {
      "text/plain": [
       "78"
      ]
     },
     "execution_count": 37,
     "metadata": {},
     "output_type": "execute_result"
    }
   ],
   "source": [
    "mark.get_marks()"
   ]
  },
  {
   "cell_type": "markdown",
   "id": "d8f4c514-57d2-4748-bfa0-6ce84a526d69",
   "metadata": {},
   "source": [
    "### Q5 What is method overriding in python? Write a python code to demonstrate method overriding."
   ]
  },
  {
   "cell_type": "code",
   "execution_count": null,
   "id": "c8362dab-833a-40f1-8027-353026cda996",
   "metadata": {},
   "outputs": [],
   "source": [
    "class parent:\n",
    "    def anything (self);\n",
    "    print(\"function defi\")"
   ]
  }
 ],
 "metadata": {
  "kernelspec": {
   "display_name": "Python 3 (ipykernel)",
   "language": "python",
   "name": "python3"
  },
  "language_info": {
   "codemirror_mode": {
    "name": "ipython",
    "version": 3
   },
   "file_extension": ".py",
   "mimetype": "text/x-python",
   "name": "python",
   "nbconvert_exporter": "python",
   "pygments_lexer": "ipython3",
   "version": "3.10.8"
  }
 },
 "nbformat": 4,
 "nbformat_minor": 5
}
